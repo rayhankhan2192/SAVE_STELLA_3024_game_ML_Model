{
 "cells": [
  {
   "cell_type": "code",
   "execution_count": 17,
   "metadata": {},
   "outputs": [],
   "source": [
    "import pandas as pd\n",
    "import numpy as np\n",
    "\n",
    "import random"
   ]
  },
  {
   "cell_type": "code",
   "execution_count": 5,
   "metadata": {},
   "outputs": [
    {
     "name": "stdout",
     "output_type": "stream",
     "text": [
      "                                     organization_id  \\\n",
      "0  The GLOBE ID assigned to the school or organiz...   \n",
      "1                                             239525   \n",
      "2                                              69872   \n",
      "3                                              69872   \n",
      "4                                              69872   \n",
      "\n",
      "                                            org_name  \\\n",
      "0  The name of the reporting school or other inst...   \n",
      "1                                   A. De  Shalit  B   \n",
      "2                                               Afek   \n",
      "3                                               Afek   \n",
      "4                                               Afek   \n",
      "\n",
      "                             site_id  \\\n",
      "0  The GLOBE ID assigned to the site   \n",
      "1                               6744   \n",
      "2                               6639   \n",
      "3                               6639   \n",
      "4                               6639   \n",
      "\n",
      "                                           site_name  \\\n",
      "0  The name assigned to the site where the data w...   \n",
      "1                                 Garden Yard:ATM-02   \n",
      "2                             School Location:ATM-01   \n",
      "3                             School Location:ATM-01   \n",
      "4                             School Location:ATM-01   \n",
      "\n",
      "                                            latitude  \\\n",
      "0  The latitude of the site where data were obser...   \n",
      "1                                              31.64   \n",
      "2                                              32.05   \n",
      "3                                              32.05   \n",
      "4                                              32.05   \n",
      "\n",
      "                                           longitude  \\\n",
      "0  The longitude of the site where date were obse...   \n",
      "1                                              34.52   \n",
      "2                                              34.95   \n",
      "3                                              34.95   \n",
      "4                                              34.95   \n",
      "\n",
      "                                           elevation  \\\n",
      "0  The elevation of the site where data were obse...   \n",
      "1                                              576.0   \n",
      "2                                               50.0   \n",
      "3                                               50.0   \n",
      "4                                               50.0   \n",
      "\n",
      "                                         measured_on   aerosols:userid  \\\n",
      "0  The date only of when the data were observed i...               NaN   \n",
      "1                                         2012-09-01         2972518.0   \n",
      "2                                         2015-03-03         3313705.0   \n",
      "3                                         2015-03-08         3313705.0   \n",
      "4                                         2015-03-09         3313705.0   \n",
      "\n",
      "  aerosols:measured at  ... aerosols:aot misc aerosols:aot 505 calculated  \\\n",
      "0                  NaN  ...               NaN                         NaN   \n",
      "1  2012-09-01T10:56:00  ...               NaN                         NaN   \n",
      "2  2015-03-03T12:00:00  ...               NaN                         NaN   \n",
      "3  2015-03-08T10:00:00  ...               NaN                         NaN   \n",
      "4  2015-03-09T10:00:00  ...               NaN                         NaN   \n",
      "\n",
      "  aerosols:aot 505 all aerosols:transmission percent at 505nm  \\\n",
      "0                  NaN                                    NaN   \n",
      "1               0.1786                                 -999.0   \n",
      "2               1.2870                                 -999.0   \n",
      "3               0.8590                                 -999.0   \n",
      "4               0.8785                                 -999.0   \n",
      "\n",
      "  aerosols:transmission percent at 625nm  \\\n",
      "0                                    NaN   \n",
      "1                                   91.6   \n",
      "2                                   27.7   \n",
      "3                                   51.3   \n",
      "4                                   47.7   \n",
      "\n",
      "  aerosols:transmission percent at 465nm  \\\n",
      "0                                    NaN   \n",
      "1                                    NaN   \n",
      "2                                    NaN   \n",
      "3                                    NaN   \n",
      "4                                    NaN   \n",
      "\n",
      "  aerosols:transmission percent at 540nm  \\\n",
      "0                                    NaN   \n",
      "1                                    NaN   \n",
      "2                                    NaN   \n",
      "3                                    NaN   \n",
      "4                                    NaN   \n",
      "\n",
      "  aerosols:transmission percent at 619nm  \\\n",
      "0                                    NaN   \n",
      "1                                    NaN   \n",
      "2                                    NaN   \n",
      "3                                    NaN   \n",
      "4                                    NaN   \n",
      "\n",
      "                       aerosols:comments aerosols:globe teams  \n",
      "0  Comments on the aerosols measurement                   NaN  \n",
      "1                                    NaN                  NaN  \n",
      "2                                    NaN                  NaN  \n",
      "3                                    NaN                  NaN  \n",
      "4                                    NaN                  NaN  \n",
      "\n",
      "[5 rows x 36 columns]\n"
     ]
    },
    {
     "name": "stderr",
     "output_type": "stream",
     "text": [
      "C:\\Users\\DIU\\AppData\\Local\\Temp\\ipykernel_10448\\1105319934.py:1: DtypeWarning: Columns (0,2,4,5,6,18) have mixed types. Specify dtype option on import or set low_memory=False.\n",
      "  df = pd.read_csv('.\\\\dataset\\\\airnewdata.csv')\n"
     ]
    }
   ],
   "source": [
    "df = pd.read_csv('.\\\\dataset\\\\airnewdata.csv')\n",
    "\n",
    "# Display the first few rows to check the data\n",
    "print(df.head())"
   ]
  },
  {
   "cell_type": "code",
   "execution_count": 6,
   "metadata": {},
   "outputs": [
    {
     "name": "stdout",
     "output_type": "stream",
     "text": [
      "Index(['organization_id', ' org_name', ' site_id', ' site_name', ' latitude',\n",
      "       ' longitude', ' elevation', ' measured_on', ' aerosols:userid',\n",
      "       'aerosols:measured at', 'aerosols:measured at date',\n",
      "       'aerosols:measured at time', 'aerosols:solar measured at',\n",
      "       'aerosols:solar noon at', 'aerosols:observed sky color',\n",
      "       'aerosols:observed sky clarity', 'aerosols:associated remote sensor',\n",
      "       'aerosols:remote sensor overflight time',\n",
      "       'aerosols:remote sensor maximum elevation angle (deg)',\n",
      "       'aerosols:aerosol photometer type',\n",
      "       'aerosols:aerosol photometer serial number',\n",
      "       'aerosols:aot 505 measured', 'aerosols:aot 625', 'aerosols:aot 465',\n",
      "       'aerosols:aot 540', 'aerosols:aot 619', 'aerosols:aot misc',\n",
      "       'aerosols:aot 505 calculated', 'aerosols:aot 505 all',\n",
      "       'aerosols:transmission percent at 505nm',\n",
      "       'aerosols:transmission percent at 625nm',\n",
      "       'aerosols:transmission percent at 465nm',\n",
      "       'aerosols:transmission percent at 540nm',\n",
      "       'aerosols:transmission percent at 619nm', 'aerosols:comments',\n",
      "       'aerosols:globe teams'],\n",
      "      dtype='object')\n"
     ]
    }
   ],
   "source": [
    "print(df.columns)"
   ]
  },
  {
   "cell_type": "code",
   "execution_count": 7,
   "metadata": {},
   "outputs": [
    {
     "data": {
      "text/html": [
       "<div>\n",
       "<style scoped>\n",
       "    .dataframe tbody tr th:only-of-type {\n",
       "        vertical-align: middle;\n",
       "    }\n",
       "\n",
       "    .dataframe tbody tr th {\n",
       "        vertical-align: top;\n",
       "    }\n",
       "\n",
       "    .dataframe thead th {\n",
       "        text-align: right;\n",
       "    }\n",
       "</style>\n",
       "<table border=\"1\" class=\"dataframe\">\n",
       "  <thead>\n",
       "    <tr style=\"text-align: right;\">\n",
       "      <th></th>\n",
       "      <th>aerosols:aot 505 measured</th>\n",
       "      <th>aerosols:aot 625</th>\n",
       "      <th>aerosols:aot 465</th>\n",
       "      <th>aerosols:aot 540</th>\n",
       "      <th>aerosols:aot 619</th>\n",
       "    </tr>\n",
       "  </thead>\n",
       "  <tbody>\n",
       "    <tr>\n",
       "      <th>0</th>\n",
       "      <td>NaN</td>\n",
       "      <td>NaN</td>\n",
       "      <td>NaN</td>\n",
       "      <td>NaN</td>\n",
       "      <td>NaN</td>\n",
       "    </tr>\n",
       "    <tr>\n",
       "      <th>1</th>\n",
       "      <td>0.1786</td>\n",
       "      <td>0.0875</td>\n",
       "      <td>NaN</td>\n",
       "      <td>NaN</td>\n",
       "      <td>NaN</td>\n",
       "    </tr>\n",
       "    <tr>\n",
       "      <th>2</th>\n",
       "      <td>1.2870</td>\n",
       "      <td>1.2855</td>\n",
       "      <td>NaN</td>\n",
       "      <td>NaN</td>\n",
       "      <td>NaN</td>\n",
       "    </tr>\n",
       "    <tr>\n",
       "      <th>3</th>\n",
       "      <td>0.8590</td>\n",
       "      <td>0.6677</td>\n",
       "      <td>NaN</td>\n",
       "      <td>NaN</td>\n",
       "      <td>NaN</td>\n",
       "    </tr>\n",
       "    <tr>\n",
       "      <th>4</th>\n",
       "      <td>0.8785</td>\n",
       "      <td>0.7394</td>\n",
       "      <td>NaN</td>\n",
       "      <td>NaN</td>\n",
       "      <td>NaN</td>\n",
       "    </tr>\n",
       "  </tbody>\n",
       "</table>\n",
       "</div>"
      ],
      "text/plain": [
       "   aerosols:aot 505 measured  aerosols:aot 625  aerosols:aot 465  \\\n",
       "0                        NaN               NaN               NaN   \n",
       "1                     0.1786            0.0875               NaN   \n",
       "2                     1.2870            1.2855               NaN   \n",
       "3                     0.8590            0.6677               NaN   \n",
       "4                     0.8785            0.7394               NaN   \n",
       "\n",
       "   aerosols:aot 540  aerosols:aot 619  \n",
       "0               NaN               NaN  \n",
       "1               NaN               NaN  \n",
       "2               NaN               NaN  \n",
       "3               NaN               NaN  \n",
       "4               NaN               NaN  "
      ]
     },
     "execution_count": 7,
     "metadata": {},
     "output_type": "execute_result"
    }
   ],
   "source": [
    "df1=df.drop(['organization_id', ' org_name', ' site_id', ' site_name', ' latitude',\n",
    "       ' longitude', ' elevation', ' measured_on', ' aerosols:userid',\n",
    "       'aerosols:measured at', 'aerosols:measured at date',\n",
    "       'aerosols:measured at time', 'aerosols:solar measured at',\n",
    "       'aerosols:solar noon at', 'aerosols:observed sky color',\n",
    "       'aerosols:observed sky clarity', 'aerosols:associated remote sensor',\n",
    "       'aerosols:remote sensor overflight time',\n",
    "       'aerosols:remote sensor maximum elevation angle (deg)',\n",
    "       'aerosols:aerosol photometer type',\n",
    "       'aerosols:aerosol photometer serial number', 'aerosols:aot misc',\n",
    "       'aerosols:aot 505 calculated', 'aerosols:aot 505 all',\n",
    "       'aerosols:transmission percent at 505nm',\n",
    "       'aerosols:transmission percent at 625nm',\n",
    "       'aerosols:transmission percent at 465nm',\n",
    "       'aerosols:transmission percent at 540nm',\n",
    "       'aerosols:transmission percent at 619nm', 'aerosols:comments',\n",
    "       'aerosols:globe teams'],axis='columns')\n",
    "df1.head()"
   ]
  },
  {
   "cell_type": "code",
   "execution_count": 8,
   "metadata": {},
   "outputs": [
    {
     "name": "stdout",
     "output_type": "stream",
     "text": [
      "Index(['aerosols:aot 505 measured', 'aerosols:aot 625', 'aerosols:aot 465',\n",
      "       'aerosols:aot 540', 'aerosols:aot 619'],\n",
      "      dtype='object')\n"
     ]
    }
   ],
   "source": [
    "print(df1.columns)"
   ]
  },
  {
   "cell_type": "code",
   "execution_count": 9,
   "metadata": {},
   "outputs": [
    {
     "data": {
      "text/html": [
       "<div>\n",
       "<style scoped>\n",
       "    .dataframe tbody tr th:only-of-type {\n",
       "        vertical-align: middle;\n",
       "    }\n",
       "\n",
       "    .dataframe tbody tr th {\n",
       "        vertical-align: top;\n",
       "    }\n",
       "\n",
       "    .dataframe thead th {\n",
       "        text-align: right;\n",
       "    }\n",
       "</style>\n",
       "<table border=\"1\" class=\"dataframe\">\n",
       "  <thead>\n",
       "    <tr style=\"text-align: right;\">\n",
       "      <th></th>\n",
       "      <th>aerosols:aot 625</th>\n",
       "    </tr>\n",
       "  </thead>\n",
       "  <tbody>\n",
       "    <tr>\n",
       "      <th>0</th>\n",
       "      <td>NaN</td>\n",
       "    </tr>\n",
       "    <tr>\n",
       "      <th>1</th>\n",
       "      <td>0.0875</td>\n",
       "    </tr>\n",
       "    <tr>\n",
       "      <th>2</th>\n",
       "      <td>1.2855</td>\n",
       "    </tr>\n",
       "    <tr>\n",
       "      <th>3</th>\n",
       "      <td>0.6677</td>\n",
       "    </tr>\n",
       "    <tr>\n",
       "      <th>4</th>\n",
       "      <td>0.7394</td>\n",
       "    </tr>\n",
       "  </tbody>\n",
       "</table>\n",
       "</div>"
      ],
      "text/plain": [
       "   aerosols:aot 625\n",
       "0               NaN\n",
       "1            0.0875\n",
       "2            1.2855\n",
       "3            0.6677\n",
       "4            0.7394"
      ]
     },
     "execution_count": 9,
     "metadata": {},
     "output_type": "execute_result"
    }
   ],
   "source": [
    "df1=df1.drop(['aerosols:aot 505 measured', 'aerosols:aot 465',\n",
    "       'aerosols:aot 540', 'aerosols:aot 619'],axis='columns')\n",
    "df1.head()"
   ]
  },
  {
   "cell_type": "code",
   "execution_count": 10,
   "metadata": {},
   "outputs": [
    {
     "data": {
      "text/html": [
       "<div>\n",
       "<style scoped>\n",
       "    .dataframe tbody tr th:only-of-type {\n",
       "        vertical-align: middle;\n",
       "    }\n",
       "\n",
       "    .dataframe tbody tr th {\n",
       "        vertical-align: top;\n",
       "    }\n",
       "\n",
       "    .dataframe thead th {\n",
       "        text-align: right;\n",
       "    }\n",
       "</style>\n",
       "<table border=\"1\" class=\"dataframe\">\n",
       "  <thead>\n",
       "    <tr style=\"text-align: right;\">\n",
       "      <th></th>\n",
       "      <th>air_temp</th>\n",
       "      <th>aerosols</th>\n",
       "    </tr>\n",
       "  </thead>\n",
       "  <tbody>\n",
       "    <tr>\n",
       "      <th>0</th>\n",
       "      <td>23.9</td>\n",
       "      <td>0.0875</td>\n",
       "    </tr>\n",
       "    <tr>\n",
       "      <th>1</th>\n",
       "      <td>27.3</td>\n",
       "      <td>1.2855</td>\n",
       "    </tr>\n",
       "    <tr>\n",
       "      <th>2</th>\n",
       "      <td>28.3</td>\n",
       "      <td>0.6677</td>\n",
       "    </tr>\n",
       "    <tr>\n",
       "      <th>3</th>\n",
       "      <td>25.8</td>\n",
       "      <td>0.7394</td>\n",
       "    </tr>\n",
       "    <tr>\n",
       "      <th>4</th>\n",
       "      <td>23.2</td>\n",
       "      <td>0.6923</td>\n",
       "    </tr>\n",
       "  </tbody>\n",
       "</table>\n",
       "</div>"
      ],
      "text/plain": [
       "   air_temp  aerosols\n",
       "0      23.9    0.0875\n",
       "1      27.3    1.2855\n",
       "2      28.3    0.6677\n",
       "3      25.8    0.7394\n",
       "4      23.2    0.6923"
      ]
     },
     "execution_count": 10,
     "metadata": {},
     "output_type": "execute_result"
    }
   ],
   "source": [
    "df1= pd.read_csv(\".\\\\dataset\\\\air_data_add_2.csv\")\n",
    "df1.head()"
   ]
  },
  {
   "cell_type": "code",
   "execution_count": 11,
   "metadata": {},
   "outputs": [
    {
     "data": {
      "text/plain": [
       "(45994, 2)"
      ]
     },
     "execution_count": 11,
     "metadata": {},
     "output_type": "execute_result"
    }
   ],
   "source": [
    "df1.shape"
   ]
  },
  {
   "cell_type": "code",
   "execution_count": 12,
   "metadata": {},
   "outputs": [
    {
     "data": {
      "text/plain": [
       "air_temp        0\n",
       "aerosols    37938\n",
       "dtype: int64"
      ]
     },
     "execution_count": 12,
     "metadata": {},
     "output_type": "execute_result"
    }
   ],
   "source": [
    "df1.isnull().sum()"
   ]
  },
  {
   "cell_type": "code",
   "execution_count": 13,
   "metadata": {},
   "outputs": [],
   "source": [
    "# Define a function to fill missing aerosols with random values between -999 and 3.6553\n",
    "\n",
    "def fill_missing_aerosols(row):\n",
    "    if pd.isnull(row['aerosols']):\n",
    "        return (random.uniform(0, 3.6553))\n",
    "    else:\n",
    "        return row['aerosols']"
   ]
  },
  {
   "cell_type": "code",
   "execution_count": 14,
   "metadata": {},
   "outputs": [],
   "source": [
    "# Apply the function to the aerosols column\n",
    "df1['aerosols'] = df1.apply(fill_missing_aerosols, axis=1)"
   ]
  },
  {
   "cell_type": "code",
   "execution_count": 15,
   "metadata": {},
   "outputs": [
    {
     "data": {
      "text/html": [
       "<div>\n",
       "<style scoped>\n",
       "    .dataframe tbody tr th:only-of-type {\n",
       "        vertical-align: middle;\n",
       "    }\n",
       "\n",
       "    .dataframe tbody tr th {\n",
       "        vertical-align: top;\n",
       "    }\n",
       "\n",
       "    .dataframe thead th {\n",
       "        text-align: right;\n",
       "    }\n",
       "</style>\n",
       "<table border=\"1\" class=\"dataframe\">\n",
       "  <thead>\n",
       "    <tr style=\"text-align: right;\">\n",
       "      <th></th>\n",
       "      <th>air_temp</th>\n",
       "      <th>aerosols</th>\n",
       "    </tr>\n",
       "  </thead>\n",
       "  <tbody>\n",
       "    <tr>\n",
       "      <th>0</th>\n",
       "      <td>23.9</td>\n",
       "      <td>0.0875</td>\n",
       "    </tr>\n",
       "    <tr>\n",
       "      <th>1</th>\n",
       "      <td>27.3</td>\n",
       "      <td>1.2855</td>\n",
       "    </tr>\n",
       "    <tr>\n",
       "      <th>2</th>\n",
       "      <td>28.3</td>\n",
       "      <td>0.6677</td>\n",
       "    </tr>\n",
       "    <tr>\n",
       "      <th>3</th>\n",
       "      <td>25.8</td>\n",
       "      <td>0.7394</td>\n",
       "    </tr>\n",
       "    <tr>\n",
       "      <th>4</th>\n",
       "      <td>23.2</td>\n",
       "      <td>0.6923</td>\n",
       "    </tr>\n",
       "  </tbody>\n",
       "</table>\n",
       "</div>"
      ],
      "text/plain": [
       "   air_temp  aerosols\n",
       "0      23.9    0.0875\n",
       "1      27.3    1.2855\n",
       "2      28.3    0.6677\n",
       "3      25.8    0.7394\n",
       "4      23.2    0.6923"
      ]
     },
     "execution_count": 15,
     "metadata": {},
     "output_type": "execute_result"
    }
   ],
   "source": [
    "df1.head()"
   ]
  },
  {
   "cell_type": "code",
   "execution_count": 16,
   "metadata": {},
   "outputs": [
    {
     "data": {
      "text/plain": [
       "air_temp    0\n",
       "aerosols    0\n",
       "dtype: int64"
      ]
     },
     "execution_count": 16,
     "metadata": {},
     "output_type": "execute_result"
    }
   ],
   "source": [
    "df1.isnull().sum()"
   ]
  },
  {
   "cell_type": "code",
   "execution_count": 18,
   "metadata": {},
   "outputs": [
    {
     "data": {
      "text/html": [
       "<div>\n",
       "<style scoped>\n",
       "    .dataframe tbody tr th:only-of-type {\n",
       "        vertical-align: middle;\n",
       "    }\n",
       "\n",
       "    .dataframe tbody tr th {\n",
       "        vertical-align: top;\n",
       "    }\n",
       "\n",
       "    .dataframe thead th {\n",
       "        text-align: right;\n",
       "    }\n",
       "</style>\n",
       "<table border=\"1\" class=\"dataframe\">\n",
       "  <thead>\n",
       "    <tr style=\"text-align: right;\">\n",
       "      <th></th>\n",
       "      <th>air_temp</th>\n",
       "      <th>aerosols</th>\n",
       "      <th>Land_Type</th>\n",
       "    </tr>\n",
       "  </thead>\n",
       "  <tbody>\n",
       "    <tr>\n",
       "      <th>0</th>\n",
       "      <td>27.3</td>\n",
       "      <td>1.2855</td>\n",
       "      <td>Heat-Adapted Coastal Ecosystems</td>\n",
       "    </tr>\n",
       "    <tr>\n",
       "      <th>1</th>\n",
       "      <td>28.3</td>\n",
       "      <td>0.6677</td>\n",
       "      <td>Heat-Adapted Coastal Ecosystems</td>\n",
       "    </tr>\n",
       "    <tr>\n",
       "      <th>2</th>\n",
       "      <td>25.8</td>\n",
       "      <td>0.7394</td>\n",
       "      <td>Heat-Adapted Coastal Ecosystems</td>\n",
       "    </tr>\n",
       "    <tr>\n",
       "      <th>3</th>\n",
       "      <td>28.3</td>\n",
       "      <td>0.5672</td>\n",
       "      <td>Heat-Adapted Coastal Ecosystems</td>\n",
       "    </tr>\n",
       "    <tr>\n",
       "      <th>4</th>\n",
       "      <td>25.8</td>\n",
       "      <td>0.5149</td>\n",
       "      <td>Heat-Adapted Coastal Ecosystems</td>\n",
       "    </tr>\n",
       "  </tbody>\n",
       "</table>\n",
       "</div>"
      ],
      "text/plain": [
       "   air_temp  aerosols                        Land_Type\n",
       "0      27.3    1.2855  Heat-Adapted Coastal Ecosystems\n",
       "1      28.3    0.6677  Heat-Adapted Coastal Ecosystems\n",
       "2      25.8    0.7394  Heat-Adapted Coastal Ecosystems\n",
       "3      28.3    0.5672  Heat-Adapted Coastal Ecosystems\n",
       "4      25.8    0.5149  Heat-Adapted Coastal Ecosystems"
      ]
     },
     "execution_count": 18,
     "metadata": {},
     "output_type": "execute_result"
    }
   ],
   "source": [
    "df2= pd.read_csv(\".\\\\dataset\\\\cleaned_output_data_3.csv\")\n",
    "df2.head()"
   ]
  },
  {
   "cell_type": "code",
   "execution_count": 20,
   "metadata": {},
   "outputs": [
    {
     "data": {
      "text/plain": [
       "(18721, 3)"
      ]
     },
     "execution_count": 20,
     "metadata": {},
     "output_type": "execute_result"
    }
   ],
   "source": [
    "df2.shape"
   ]
  }
 ],
 "metadata": {
  "kernelspec": {
   "display_name": "Python 3",
   "language": "python",
   "name": "python3"
  },
  "language_info": {
   "codemirror_mode": {
    "name": "ipython",
    "version": 3
   },
   "file_extension": ".py",
   "mimetype": "text/x-python",
   "name": "python",
   "nbconvert_exporter": "python",
   "pygments_lexer": "ipython3",
   "version": "3.12.1"
  }
 },
 "nbformat": 4,
 "nbformat_minor": 2
}
