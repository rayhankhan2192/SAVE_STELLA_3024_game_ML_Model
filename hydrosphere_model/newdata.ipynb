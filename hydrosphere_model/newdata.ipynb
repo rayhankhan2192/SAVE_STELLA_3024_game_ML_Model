{
 "cells": [
  {
   "cell_type": "code",
   "execution_count": 14,
   "metadata": {},
   "outputs": [],
   "source": [
    "import pandas as pd\n",
    "import numpy as np\n",
    "from sklearn.model_selection import train_test_split\n",
    "from sklearn.ensemble import RandomForestClassifier\n",
    "from sklearn.metrics import classification_report, accuracy_score\n",
    "from sklearn.preprocessing import LabelEncoder\n",
    "from sklearn.preprocessing import StandardScaler\n",
    "import pickle\n",
    "import pandas as pd\n",
    "import numpy as np\n",
    "from matplotlib import pyplot as plt\n",
    "%matplotlib inline\n",
    "import matplotlib\n",
    "matplotlib.rcParams[\"figure.figsize\"]= (20,10)\n",
    "import random"
   ]
  },
  {
   "cell_type": "code",
   "execution_count": 7,
   "metadata": {},
   "outputs": [
    {
     "name": "stdout",
     "output_type": "stream",
     "text": [
      "                                     organization_id  \\\n",
      "0  The GLOBE ID assigned to the school or organiz...   \n",
      "1                                           53170157   \n",
      "2                                           53170157   \n",
      "3                                           53170157   \n",
      "4                                           53170157   \n",
      "\n",
      "                                            org_name  \\\n",
      "0  The name of the reporting school or other inst...   \n",
      "1                10 Secondary Girls school At altaif   \n",
      "2                10 Secondary Girls school At altaif   \n",
      "3                10 Secondary Girls school At altaif   \n",
      "4                10 Secondary Girls school At altaif   \n",
      "\n",
      "                             site_id  \\\n",
      "0  The GLOBE ID assigned to the site   \n",
      "1                             260562   \n",
      "2                             260562   \n",
      "3                             260562   \n",
      "4                             260562   \n",
      "\n",
      "                                           site_name  \\\n",
      "0  The name assigned to the site where the data w...   \n",
      "1                                           10School   \n",
      "2                                           10School   \n",
      "3                                           10School   \n",
      "4                                           10School   \n",
      "\n",
      "                                            latitude  \\\n",
      "0  The latitude of the site where data were obser...   \n",
      "1                                          21.301503   \n",
      "2                                          21.301503   \n",
      "3                                          21.301503   \n",
      "4                                          21.301503   \n",
      "\n",
      "                                           longitude  \\\n",
      "0  The longitude of the site where date were obse...   \n",
      "1                                           40.42677   \n",
      "2                                           40.42677   \n",
      "3                                           40.42677   \n",
      "4                                           40.42677   \n",
      "\n",
      "                                           elevation  \\\n",
      "0  The elevation of the site where data were obse...   \n",
      "1                                             1652.0   \n",
      "2                                             1652.0   \n",
      "3                                             1652.0   \n",
      "4                                             1652.0   \n",
      "\n",
      "                                         measured_on   salinities:userid  \\\n",
      "0  The date only of when the data were observed i...                 NaN   \n",
      "1                                         2022-01-09          53170486.0   \n",
      "2                                         2022-01-16          53170486.0   \n",
      "3                                         2022-01-30          53170486.0   \n",
      "4                                         2022-04-03          53170486.0   \n",
      "\n",
      "  salinities:measured at  ...  \\\n",
      "0                    NaN  ...   \n",
      "1    2022-01-09T09:00:00  ...   \n",
      "2    2022-01-16T06:00:00  ...   \n",
      "3    2022-01-30T06:00:00  ...   \n",
      "4    2022-04-03T12:20:00  ...   \n",
      "\n",
      "                salinities:tide location description  \\\n",
      "0  Description of the location for which tide inf...   \n",
      "1                                                NaN   \n",
      "2                                                NaN   \n",
      "3                                                NaN   \n",
      "4                                                NaN   \n",
      "\n",
      "      salinities:before salinity measurement tide at  \\\n",
      "0  Time of high or low tide preceding the salinit...   \n",
      "1                                                NaN   \n",
      "2                                                NaN   \n",
      "3                                                NaN   \n",
      "4                                                NaN   \n",
      "\n",
      "  salinities:before salinity measurement tide type  \\\n",
      "0                        Type of tide: high or low   \n",
      "1                                              NaN   \n",
      "2                                              NaN   \n",
      "3                                              NaN   \n",
      "4                                              NaN   \n",
      "\n",
      "       salinities:after salinity measurement tide at  \\\n",
      "0  Time of high or low tide following the salinit...   \n",
      "1                                                NaN   \n",
      "2                                                NaN   \n",
      "3                                                NaN   \n",
      "4                                                NaN   \n",
      "\n",
      "  salinities:after salinity measurement tide type  \\\n",
      "0                       Type of tide: high or low   \n",
      "1                                             NaN   \n",
      "2                                             NaN   \n",
      "3                                             NaN   \n",
      "4                                             NaN   \n",
      "\n",
      "                         salinities:salinity kit mfg  \\\n",
      "0  Name of the manufacturer of the salinity kit used   \n",
      "1                                                NaN   \n",
      "2                                                NaN   \n",
      "3                                                NaN   \n",
      "4                                                NaN   \n",
      "\n",
      "    salinities:salinity kit model               salinities:comments  \\\n",
      "0  Salinity test kit model number  Comments on salinity measurement   \n",
      "1                             NaN                               NaN   \n",
      "2                             NaN                               NaN   \n",
      "3                             NaN                               NaN   \n",
      "4                             NaN                               NaN   \n",
      "\n",
      "                            salinities:tide point salinities:globe teams  \n",
      "0  Location of place where tide time was provided                    NaN  \n",
      "1                                             NaN                    NaN  \n",
      "2                                             NaN                    NaN  \n",
      "3                                             NaN                    NaN  \n",
      "4                                             NaN                    NaN  \n",
      "\n",
      "[5 rows x 24 columns]\n"
     ]
    },
    {
     "name": "stderr",
     "output_type": "stream",
     "text": [
      "C:\\Users\\MBHS\\AppData\\Local\\Temp\\ipykernel_15160\\1420293316.py:1: DtypeWarning: Columns (0,2,4,5,6,11,12,13) have mixed types. Specify dtype option on import or set low_memory=False.\n",
      "  df = pd.read_csv('.\\\\datasets\\\\hydronewdata.csv')\n"
     ]
    }
   ],
   "source": [
    "df = pd.read_csv('.\\\\datasets\\\\hydronewdata.csv')\n",
    "\n",
    "# Display the first few rows to check the data\n",
    "print(df.head())"
   ]
  },
  {
   "cell_type": "code",
   "execution_count": 8,
   "metadata": {},
   "outputs": [
    {
     "name": "stdout",
     "output_type": "stream",
     "text": [
      "Index(['organization_id', ' org_name', ' site_id', ' site_name', ' latitude',\n",
      "       ' longitude', ' elevation', ' measured_on', ' salinities:userid',\n",
      "       'salinities:measured at', 'salinities:water body state',\n",
      "       'salinities:salinity via hydrometer (ppt)', 'salinities:tide latitude',\n",
      "       'salinities:tide longitude', 'salinities:tide location description',\n",
      "       'salinities:before salinity measurement tide at',\n",
      "       'salinities:before salinity measurement tide type',\n",
      "       'salinities:after salinity measurement tide at',\n",
      "       'salinities:after salinity measurement tide type',\n",
      "       'salinities:salinity kit mfg', 'salinities:salinity kit model',\n",
      "       'salinities:comments', 'salinities:tide point',\n",
      "       'salinities:globe teams'],\n",
      "      dtype='object')\n"
     ]
    }
   ],
   "source": [
    "print(df.columns)"
   ]
  },
  {
   "cell_type": "code",
   "execution_count": 9,
   "metadata": {},
   "outputs": [
    {
     "data": {
      "text/html": [
       "<div>\n",
       "<style scoped>\n",
       "    .dataframe tbody tr th:only-of-type {\n",
       "        vertical-align: middle;\n",
       "    }\n",
       "\n",
       "    .dataframe tbody tr th {\n",
       "        vertical-align: top;\n",
       "    }\n",
       "\n",
       "    .dataframe thead th {\n",
       "        text-align: right;\n",
       "    }\n",
       "</style>\n",
       "<table border=\"1\" class=\"dataframe\">\n",
       "  <thead>\n",
       "    <tr style=\"text-align: right;\">\n",
       "      <th></th>\n",
       "      <th>salinities:salinity via hydrometer (ppt)</th>\n",
       "    </tr>\n",
       "  </thead>\n",
       "  <tbody>\n",
       "    <tr>\n",
       "      <th>0</th>\n",
       "      <td>Salinity in parts per thousand as measured usi...</td>\n",
       "    </tr>\n",
       "    <tr>\n",
       "      <th>1</th>\n",
       "      <td>NaN</td>\n",
       "    </tr>\n",
       "    <tr>\n",
       "      <th>2</th>\n",
       "      <td>NaN</td>\n",
       "    </tr>\n",
       "    <tr>\n",
       "      <th>3</th>\n",
       "      <td>NaN</td>\n",
       "    </tr>\n",
       "    <tr>\n",
       "      <th>4</th>\n",
       "      <td>NaN</td>\n",
       "    </tr>\n",
       "  </tbody>\n",
       "</table>\n",
       "</div>"
      ],
      "text/plain": [
       "            salinities:salinity via hydrometer (ppt)\n",
       "0  Salinity in parts per thousand as measured usi...\n",
       "1                                                NaN\n",
       "2                                                NaN\n",
       "3                                                NaN\n",
       "4                                                NaN"
      ]
     },
     "execution_count": 9,
     "metadata": {},
     "output_type": "execute_result"
    }
   ],
   "source": [
    "df1=df.drop(['organization_id', ' org_name', ' site_id', ' site_name', ' latitude',\n",
    "       ' longitude', ' elevation', ' measured_on', ' salinities:userid',\n",
    "       'salinities:measured at', 'salinities:water body state', 'salinities:tide latitude',\n",
    "       'salinities:tide longitude', 'salinities:tide location description',\n",
    "       'salinities:before salinity measurement tide at',\n",
    "       'salinities:before salinity measurement tide type',\n",
    "       'salinities:after salinity measurement tide at',\n",
    "       'salinities:after salinity measurement tide type',\n",
    "       'salinities:salinity kit mfg', 'salinities:salinity kit model',\n",
    "       'salinities:comments', 'salinities:tide point',\n",
    "       'salinities:globe teams'],axis='columns')\n",
    "df1.head()"
   ]
  },
  {
   "cell_type": "code",
   "execution_count": 10,
   "metadata": {},
   "outputs": [],
   "source": [
    "df1.to_csv('.\\\\datasets\\\\hydronewdata_2.csv')"
   ]
  },
  {
   "cell_type": "code",
   "execution_count": 11,
   "metadata": {},
   "outputs": [
    {
     "data": {
      "text/html": [
       "<div>\n",
       "<style scoped>\n",
       "    .dataframe tbody tr th:only-of-type {\n",
       "        vertical-align: middle;\n",
       "    }\n",
       "\n",
       "    .dataframe tbody tr th {\n",
       "        vertical-align: top;\n",
       "    }\n",
       "\n",
       "    .dataframe thead th {\n",
       "        text-align: right;\n",
       "    }\n",
       "</style>\n",
       "<table border=\"1\" class=\"dataframe\">\n",
       "  <thead>\n",
       "    <tr style=\"text-align: right;\">\n",
       "      <th></th>\n",
       "      <th>Dissolved_Oxygen</th>\n",
       "      <th>salinities</th>\n",
       "    </tr>\n",
       "  </thead>\n",
       "  <tbody>\n",
       "    <tr>\n",
       "      <th>0</th>\n",
       "      <td>15</td>\n",
       "      <td>NaN</td>\n",
       "    </tr>\n",
       "    <tr>\n",
       "      <th>1</th>\n",
       "      <td>16.5</td>\n",
       "      <td>NaN</td>\n",
       "    </tr>\n",
       "    <tr>\n",
       "      <th>2</th>\n",
       "      <td>7.8</td>\n",
       "      <td>NaN</td>\n",
       "    </tr>\n",
       "    <tr>\n",
       "      <th>3</th>\n",
       "      <td>14</td>\n",
       "      <td>NaN</td>\n",
       "    </tr>\n",
       "    <tr>\n",
       "      <th>4</th>\n",
       "      <td>16.5</td>\n",
       "      <td>NaN</td>\n",
       "    </tr>\n",
       "  </tbody>\n",
       "</table>\n",
       "</div>"
      ],
      "text/plain": [
       "  Dissolved_Oxygen  salinities\n",
       "0               15         NaN\n",
       "1             16.5         NaN\n",
       "2              7.8         NaN\n",
       "3               14         NaN\n",
       "4             16.5         NaN"
      ]
     },
     "execution_count": 11,
     "metadata": {},
     "output_type": "execute_result"
    }
   ],
   "source": [
    "df1= pd.read_csv(\".\\\\datasets\\\\sampled_data_Model_2.csv\")\n",
    "df1.head()"
   ]
  },
  {
   "cell_type": "code",
   "execution_count": 12,
   "metadata": {},
   "outputs": [
    {
     "data": {
      "text/plain": [
       "(62900, 2)"
      ]
     },
     "execution_count": 12,
     "metadata": {},
     "output_type": "execute_result"
    }
   ],
   "source": [
    "df1.shape"
   ]
  },
  {
   "cell_type": "code",
   "execution_count": 13,
   "metadata": {},
   "outputs": [
    {
     "data": {
      "text/plain": [
       "Dissolved_Oxygen    31691\n",
       "salinities          20304\n",
       "dtype: int64"
      ]
     },
     "execution_count": 13,
     "metadata": {},
     "output_type": "execute_result"
    }
   ],
   "source": [
    "df1.isnull().sum()"
   ]
  },
  {
   "cell_type": "code",
   "execution_count": 15,
   "metadata": {},
   "outputs": [],
   "source": [
    "# Define a function to fill missing disolved oxygen with random values between 0 and 20\n",
    "def fill_missing_Dissolved_Oxygen(row):\n",
    "    if pd.isnull(row['Dissolved_Oxygen']):\n",
    "        return round(random.uniform(0, 20), 1)\n",
    "    else:\n",
    "        return row['Dissolved_Oxygen']"
   ]
  },
  {
   "cell_type": "code",
   "execution_count": 16,
   "metadata": {},
   "outputs": [],
   "source": [
    "# Apply the function to the disolved oxygen column\n",
    "df1['Dissolved_Oxygen'] = df1.apply(fill_missing_Dissolved_Oxygen, axis=1)"
   ]
  },
  {
   "cell_type": "code",
   "execution_count": 17,
   "metadata": {},
   "outputs": [],
   "source": [
    "# Define a function to fill missing sanity with random values between 0 and 60\n",
    "def fill_missing_salinities(row):\n",
    "    if pd.isnull(row['salinities']):\n",
    "        return round(random.uniform(0, 60), 1)\n",
    "    else:\n",
    "        return row['salinities']"
   ]
  },
  {
   "cell_type": "code",
   "execution_count": 18,
   "metadata": {},
   "outputs": [],
   "source": [
    "# Apply the function to the salinities column\n",
    "df1['salinities'] = df1.apply(fill_missing_salinities, axis=1)"
   ]
  },
  {
   "cell_type": "code",
   "execution_count": 19,
   "metadata": {},
   "outputs": [
    {
     "data": {
      "text/html": [
       "<div>\n",
       "<style scoped>\n",
       "    .dataframe tbody tr th:only-of-type {\n",
       "        vertical-align: middle;\n",
       "    }\n",
       "\n",
       "    .dataframe tbody tr th {\n",
       "        vertical-align: top;\n",
       "    }\n",
       "\n",
       "    .dataframe thead th {\n",
       "        text-align: right;\n",
       "    }\n",
       "</style>\n",
       "<table border=\"1\" class=\"dataframe\">\n",
       "  <thead>\n",
       "    <tr style=\"text-align: right;\">\n",
       "      <th></th>\n",
       "      <th>Dissolved_Oxygen</th>\n",
       "      <th>salinities</th>\n",
       "    </tr>\n",
       "  </thead>\n",
       "  <tbody>\n",
       "    <tr>\n",
       "      <th>0</th>\n",
       "      <td>15</td>\n",
       "      <td>13.7</td>\n",
       "    </tr>\n",
       "    <tr>\n",
       "      <th>1</th>\n",
       "      <td>16.5</td>\n",
       "      <td>8.0</td>\n",
       "    </tr>\n",
       "    <tr>\n",
       "      <th>2</th>\n",
       "      <td>7.8</td>\n",
       "      <td>7.5</td>\n",
       "    </tr>\n",
       "    <tr>\n",
       "      <th>3</th>\n",
       "      <td>14</td>\n",
       "      <td>38.5</td>\n",
       "    </tr>\n",
       "    <tr>\n",
       "      <th>4</th>\n",
       "      <td>16.5</td>\n",
       "      <td>2.9</td>\n",
       "    </tr>\n",
       "  </tbody>\n",
       "</table>\n",
       "</div>"
      ],
      "text/plain": [
       "  Dissolved_Oxygen  salinities\n",
       "0               15        13.7\n",
       "1             16.5         8.0\n",
       "2              7.8         7.5\n",
       "3               14        38.5\n",
       "4             16.5         2.9"
      ]
     },
     "execution_count": 19,
     "metadata": {},
     "output_type": "execute_result"
    }
   ],
   "source": [
    "df1.head()"
   ]
  },
  {
   "cell_type": "code",
   "execution_count": 20,
   "metadata": {},
   "outputs": [
    {
     "data": {
      "text/plain": [
       "Dissolved_Oxygen    0\n",
       "salinities          0\n",
       "dtype: int64"
      ]
     },
     "execution_count": 20,
     "metadata": {},
     "output_type": "execute_result"
    }
   ],
   "source": [
    "df1.isnull().sum()"
   ]
  },
  {
   "cell_type": "code",
   "execution_count": 21,
   "metadata": {},
   "outputs": [],
   "source": [
    "df1.to_csv('.\\\\datasets\\\\hydronewdata_2.csv')"
   ]
  }
 ],
 "metadata": {
  "kernelspec": {
   "display_name": "Python 3",
   "language": "python",
   "name": "python3"
  },
  "language_info": {
   "codemirror_mode": {
    "name": "ipython",
    "version": 3
   },
   "file_extension": ".py",
   "mimetype": "text/x-python",
   "name": "python",
   "nbconvert_exporter": "python",
   "pygments_lexer": "ipython3",
   "version": "3.12.6"
  }
 },
 "nbformat": 4,
 "nbformat_minor": 2
}
